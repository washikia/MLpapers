{
 "cells": [
  {
   "cell_type": "markdown",
   "metadata": {},
   "source": [
    "<!-- first we deactivate the running virtual environment -->\n",
    "<!-- conda create -n mfa python 3.10 -->\n",
    "<!-- conda activate mfa -->\n",
    "<!-- pip install montreal-forced-aligner -->"
   ]
  },
  {
   "cell_type": "markdown",
   "metadata": {},
   "source": []
  }
 ],
 "metadata": {
  "language_info": {
   "name": "python"
  }
 },
 "nbformat": 4,
 "nbformat_minor": 2
}
