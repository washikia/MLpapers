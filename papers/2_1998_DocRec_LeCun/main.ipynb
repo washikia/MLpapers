{
 "cells": [
  {
   "cell_type": "code",
   "execution_count": 18,
   "metadata": {},
   "outputs": [],
   "source": [
    "import import_ipynb\n",
    "from config import CONFIG\n",
    "from utils import load, store\n",
    "from data import dataloader_fn\n",
    "from model import MOCK_LENET5\n",
    "from train import train_model, test_model\n"
   ]
  },
  {
   "cell_type": "code",
   "execution_count": 2,
   "metadata": {},
   "outputs": [],
   "source": [
    "train_loader = dataloader_fn(filepath=CONFIG[\"train_data_path\"], batch_size=CONFIG[\"batch_size\"])"
   ]
  },
  {
   "cell_type": "code",
   "execution_count": 5,
   "metadata": {},
   "outputs": [
    {
     "data": {
      "text/plain": [
       "(60000, 784)"
      ]
     },
     "execution_count": 5,
     "metadata": {},
     "output_type": "execute_result"
    }
   ],
   "source": [
    "train_loader.dataset.images.shape"
   ]
  },
  {
   "cell_type": "code",
   "execution_count": 6,
   "metadata": {},
   "outputs": [
    {
     "name": "stdout",
     "output_type": "stream",
     "text": [
      "Epoch 1/20, Loss: 16.0670, Accuracy: 10.04%\n",
      "Epoch 2/20, Loss: 13.0302, Accuracy: 11.13%\n",
      "Epoch 3/20, Loss: 12.5424, Accuracy: 15.09%\n",
      "Epoch 4/20, Loss: 4.7270, Accuracy: 48.16%\n",
      "Epoch 5/20, Loss: 0.6850, Accuracy: 81.87%\n",
      "Epoch 6/20, Loss: 0.1934, Accuracy: 94.85%\n",
      "Epoch 7/20, Loss: 0.1426, Accuracy: 96.02%\n",
      "Epoch 8/20, Loss: 0.1119, Accuracy: 96.81%\n",
      "Epoch 9/20, Loss: 0.1000, Accuracy: 97.17%\n",
      "Epoch 10/20, Loss: 0.0863, Accuracy: 97.56%\n",
      "Epoch 11/20, Loss: 0.0747, Accuracy: 97.84%\n",
      "Epoch 12/20, Loss: 0.0669, Accuracy: 98.01%\n",
      "Epoch 13/20, Loss: 0.0591, Accuracy: 98.19%\n",
      "Epoch 14/20, Loss: 0.0542, Accuracy: 98.37%\n",
      "Epoch 15/20, Loss: 0.0507, Accuracy: 98.47%\n",
      "Epoch 16/20, Loss: 0.0469, Accuracy: 98.59%\n",
      "Epoch 17/20, Loss: 0.0410, Accuracy: 98.68%\n",
      "Epoch 18/20, Loss: 0.0364, Accuracy: 98.84%\n",
      "Epoch 19/20, Loss: 0.0361, Accuracy: 98.86%\n",
      "Epoch 20/20, Loss: 0.0323, Accuracy: 98.93%\n"
     ]
    }
   ],
   "source": [
    "model = MOCK_LENET5()\n",
    "model = train_model(train_loader, model, CONFIG[\"learning_rate\"], CONFIG[\"device\"], CONFIG[\"epochs\"])"
   ]
  },
  {
   "cell_type": "code",
   "execution_count": 7,
   "metadata": {},
   "outputs": [
    {
     "name": "stdout",
     "output_type": "stream",
     "text": [
      "Model saved to checkpoints.pth\n"
     ]
    }
   ],
   "source": [
    "store(model, CONFIG[\"model_path\"])"
   ]
  },
  {
   "cell_type": "code",
   "execution_count": 19,
   "metadata": {},
   "outputs": [
    {
     "name": "stdout",
     "output_type": "stream",
     "text": [
      "Model loaded from checkpoints.pth\n"
     ]
    }
   ],
   "source": [
    "model = MOCK_LENET5()\n",
    "model = load(model, CONFIG[\"model_path\"], CONFIG[\"device\"])"
   ]
  },
  {
   "cell_type": "code",
   "execution_count": 20,
   "metadata": {},
   "outputs": [],
   "source": [
    "test_loader = dataloader_fn(filepath=CONFIG['test_data_path'], batch_size=CONFIG['batch_size'], shuffle=False)"
   ]
  },
  {
   "cell_type": "code",
   "execution_count": 21,
   "metadata": {},
   "outputs": [
    {
     "name": "stdout",
     "output_type": "stream",
     "text": [
      "<function test_model at 0x1131ba480>\n"
     ]
    }
   ],
   "source": [
    "print(test_model)"
   ]
  },
  {
   "cell_type": "code",
   "execution_count": 22,
   "metadata": {},
   "outputs": [
    {
     "name": "stdout",
     "output_type": "stream",
     "text": [
      "Test Accuracy: 98.18%\n"
     ]
    }
   ],
   "source": [
    "test_model(test_loader, model, CONFIG['device'])"
   ]
  },
  {
   "cell_type": "code",
   "execution_count": null,
   "metadata": {},
   "outputs": [],
   "source": []
  }
 ],
 "metadata": {
  "kernelspec": {
   "display_name": "mlpapers_env",
   "language": "python",
   "name": "python3"
  },
  "language_info": {
   "codemirror_mode": {
    "name": "ipython",
    "version": 3
   },
   "file_extension": ".py",
   "mimetype": "text/x-python",
   "name": "python",
   "nbconvert_exporter": "python",
   "pygments_lexer": "ipython3",
   "version": "3.12.2"
  }
 },
 "nbformat": 4,
 "nbformat_minor": 2
}
