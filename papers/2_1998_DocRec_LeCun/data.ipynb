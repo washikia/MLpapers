{
 "cells": [
  {
   "cell_type": "code",
   "execution_count": 3,
   "metadata": {},
   "outputs": [],
   "source": [
    "import torch\n",
    "import pandas as pd\n",
    "from torch.utils.data import Dataset, DataLoader\n",
    "from torchvision import transforms"
   ]
  },
  {
   "cell_type": "code",
   "execution_count": 92,
   "metadata": {},
   "outputs": [],
   "source": [
    "class MNIST_Dataset(Dataset):\n",
    "    def __init__(self, dataset, transform=None):\n",
    "        super(MNIST_Dataset, self).__init__()\n",
    "\n",
    "        self.images = dataset.iloc[:, 1:]\n",
    "        self.labels = dataset.iloc[:, 0]\n",
    "\n",
    "        self.transform = transform\n",
    "\n",
    "    def __len__(self):\n",
    "        return len(self.labels)\n",
    "    \n",
    "    def __getitem__(self, index):\n",
    "        image = self.images.iloc[index].values        \n",
    "        label = self.labels.iloc[index]\n",
    "\n",
    "        if self.transform:\n",
    "            image = self.transform(image)\n",
    "\n",
    "        return image, label\n",
    "        \n",
    "    "
   ]
  },
  {
   "cell_type": "code",
   "execution_count": 93,
   "metadata": {},
   "outputs": [],
   "source": [
    "# cannot be scripted\n",
    "\n",
    "transform = transforms.Compose([\n",
    "    transforms.Lambda(lambda x: x.reshape(28,28)),\n",
    "    transforms.ToTensor(),\n",
    "    transforms.Lambda(lambda x: 1.275 * x - 0.1)\n",
    "])"
   ]
  },
  {
   "cell_type": "code",
   "execution_count": 94,
   "metadata": {},
   "outputs": [],
   "source": [
    "dataset = pd.read_csv('/Users/washikuddinahmedmollah/Documents/papers/papers/2_1998_DocRec_LeCun/dataset/mnist_train.csv', delimiter=\",\", header=None)\n",
    "train_dataset = MNIST_Dataset(dataset, transform=transform)\n",
    "\n",
    "dataset = pd.read_csv('/Users/washikuddinahmedmollah/Documents/papers/papers/2_1998_DocRec_LeCun/dataset/mnist_test.csv', delimiter=\",\", header=None)\n",
    "test_dataset = MNIST_Dataset(dataset, transform=transform)\n",
    "\n",
    "train_dataloader = DataLoader(train_dataset, 64, shuffle=True)\n",
    "test_dataloader = DataLoader(test_dataset, 64, shuffle=False)"
   ]
  },
  {
   "cell_type": "code",
   "execution_count": 95,
   "metadata": {},
   "outputs": [
    {
     "name": "stdout",
     "output_type": "stream",
     "text": [
      "torch.Size([64, 1, 28, 28]) torch.Size([64])\n",
      "torch.Size([64, 1, 28, 28]) torch.Size([64])\n",
      "torch.Size([64, 1, 28, 28]) torch.Size([64])\n",
      "torch.Size([64, 1, 28, 28]) torch.Size([64])\n",
      "torch.Size([64, 1, 28, 28]) torch.Size([64])\n"
     ]
    }
   ],
   "source": [
    "for i, (image, label) in enumerate(test_dataloader):\n",
    "    print(image.shape, label.shape)\n",
    "    if i == 4:  # Check first few samples\n",
    "        break"
   ]
  },
  {
   "cell_type": "code",
   "execution_count": null,
   "metadata": {},
   "outputs": [],
   "source": []
  }
 ],
 "metadata": {
  "kernelspec": {
   "display_name": "mlpapers_env",
   "language": "python",
   "name": "python3"
  },
  "language_info": {
   "codemirror_mode": {
    "name": "ipython",
    "version": 3
   },
   "file_extension": ".py",
   "mimetype": "text/x-python",
   "name": "python",
   "nbconvert_exporter": "python",
   "pygments_lexer": "ipython3",
   "version": "3.12.2"
  }
 },
 "nbformat": 4,
 "nbformat_minor": 2
}
