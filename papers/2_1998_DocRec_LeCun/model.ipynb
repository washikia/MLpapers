{
 "cells": [
  {
   "cell_type": "code",
   "execution_count": 1,
   "metadata": {},
   "outputs": [],
   "source": [
    "import torch\n",
    "import torch.nn as nn\n",
    "import import_ipynb\n",
    "from utils import generate_parameter_vector, scaled_tanh"
   ]
  },
  {
   "cell_type": "code",
   "execution_count": 2,
   "metadata": {},
   "outputs": [],
   "source": [
    "class CUSTOM_POOLING(nn.Module):\n",
    "    def __init__(self, in_channels, out_channels):\n",
    "        super().__init__()\n",
    "\n",
    "        self.weights = nn.Parameter(torch.randn(out_channels))\n",
    "        self.bias = nn.Parameter(torch.randn(out_channels))\n",
    "    \n",
    "    def forward(self, x):\n",
    "        B, C, H, W = x.size()\n",
    "        assert H%2==0 and W%2==0\n",
    "\n",
    "        x = x.view(B, C, H//2, 2, W//2, 2)\n",
    "        x = torch.sum(x, dim=(3,5))\n",
    "        x = x * self.weights.view(1,-1,1,1) + self.bias.view(1,-1,1,1)\n",
    "\n",
    "        return x"
   ]
  },
  {
   "cell_type": "code",
   "execution_count": 3,
   "metadata": {},
   "outputs": [],
   "source": [
    "table1 = [\n",
    "    [0,1,2],\n",
    "    [1,2,3],\n",
    "    [2,3,4],\n",
    "    [3,4,5],\n",
    "    [4,5,0],\n",
    "    [5,0,1],\n",
    "    [0,1,2,3],\n",
    "    [1,2,3,4],\n",
    "    [2,3,4,5],\n",
    "    [3,4,5,0],\n",
    "    [4,5,0,1],\n",
    "    [5,0,1,2],\n",
    "    [0,1,3,4],\n",
    "    [1,2,4,5],\n",
    "    [0,2,3,5],\n",
    "    [0,1,2,3,4,5]\n",
    "]"
   ]
  },
  {
   "cell_type": "code",
   "execution_count": 4,
   "metadata": {},
   "outputs": [],
   "source": [
    "class SPARSE_CONV(nn.Module):\n",
    "    def __init__(self, in_channels, out_channels, kernel_size, connection_scheme):\n",
    "        super().__init__()\n",
    "        self.connection_scheme = connection_scheme\n",
    "        self.convs = nn.ModuleList(\n",
    "            [nn.Conv2d(len(S2_channels), 1, kernel_size) for S2_channels in connection_scheme]\n",
    "        )\n",
    "    \n",
    "    def forward(self, x):\n",
    "        output = []\n",
    "        for i, S2_channels in enumerate(self.connection_scheme):\n",
    "            output.append(\n",
    "                self.convs[i](x[:, S2_channels, :, :])\n",
    "            )\n",
    "        \n",
    "        return torch.cat(output, dim=1)"
   ]
  },
  {
   "cell_type": "code",
   "execution_count": 5,
   "metadata": {},
   "outputs": [],
   "source": [
    "class RBF(nn.Module):\n",
    "    def __init__(self, in_channels, out_channels):\n",
    "        super().__init__()\n",
    "        self.parameter_vector = nn.Parameter(\n",
    "            torch.stack(\n",
    "                [generate_parameter_vector(0.2, length=in_channels) for _ in range(out_channels)]\n",
    "            ),\n",
    "            requires_grad=False\n",
    "        )\n",
    "    \n",
    "    def forward(self, x):\n",
    "        batch_size = x.shape[0]\n",
    "\n",
    "        expanded_param = self.parameter_vector.unsqueeze(0).expand(batch_size, -1, -1)\n",
    "        x = x.unsqueeze(dim=1)\n",
    "\n",
    "        output = torch.sum(torch.square(x-expanded_param), dim=2, keepdim=True).squeeze(dim=2)\n",
    "        return output"
   ]
  },
  {
   "cell_type": "code",
   "execution_count": 6,
   "metadata": {},
   "outputs": [],
   "source": [
    "class MOCK_LENET5(nn.Module):\n",
    "    def __init__(self):\n",
    "        super(MOCK_LENET5, self).__init__()\n",
    "        self.C1 = nn.Conv2d(in_channels=1, out_channels=6, kernel_size=5, stride=1)\n",
    "        self.S2 = CUSTOM_POOLING(in_channels=6, out_channels=6)\n",
    "        self.C3 = SPARSE_CONV(in_channels=6, out_channels=16, kernel_size=5, connection_scheme=table1)\n",
    "        self.S4 = CUSTOM_POOLING(in_channels=16, out_channels=16)\n",
    "        self.C5 = nn.Conv2d(in_channels=16, out_channels=120, kernel_size=5)\n",
    "        self.F6 = nn.Linear(in_features=120, out_features=84)\n",
    "        self.RBF = RBF(in_channels=84, out_channels=10)\n",
    "        self.dense = nn.Linear(in_features=84, out_features=10)\n",
    "    \n",
    "    def forward(self, x):\n",
    "        x = scaled_tanh(input=self.C1(x))\n",
    "        x = scaled_tanh(input=self.S2(x))\n",
    "        x = scaled_tanh(input=self.C3(x))\n",
    "        x = scaled_tanh(input=self.S4(x))\n",
    "        x = scaled_tanh(input=self.C5(x))\n",
    "        x = x.squeeze()\n",
    "        x = scaled_tanh(input=self.F6(x))\n",
    "        output = self.RBF(x)\n",
    "\n",
    "        return output\n",
    "\n",
    "        \n",
    "        "
   ]
  },
  {
   "cell_type": "code",
   "execution_count": null,
   "metadata": {},
   "outputs": [],
   "source": []
  }
 ],
 "metadata": {
  "kernelspec": {
   "display_name": "mlpapers_env",
   "language": "python",
   "name": "python3"
  },
  "language_info": {
   "codemirror_mode": {
    "name": "ipython",
    "version": 3
   },
   "file_extension": ".py",
   "mimetype": "text/x-python",
   "name": "python",
   "nbconvert_exporter": "python",
   "pygments_lexer": "ipython3",
   "version": "3.12.2"
  }
 },
 "nbformat": 4,
 "nbformat_minor": 2
}
