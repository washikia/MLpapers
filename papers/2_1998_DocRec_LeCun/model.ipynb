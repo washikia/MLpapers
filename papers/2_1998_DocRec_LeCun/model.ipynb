{
 "cells": [
  {
   "cell_type": "code",
   "execution_count": 1,
   "metadata": {},
   "outputs": [],
   "source": [
    "import torch.nn as nn\n",
    "import torch.nn.functional as F"
   ]
  },
  {
   "cell_type": "code",
   "execution_count": 2,
   "metadata": {},
   "outputs": [],
   "source": [
    "import torch"
   ]
  },
  {
   "cell_type": "code",
   "execution_count": 3,
   "metadata": {},
   "outputs": [
    {
     "data": {
      "text/plain": [
       "torch.Tensor"
      ]
     },
     "execution_count": 3,
     "metadata": {},
     "output_type": "execute_result"
    }
   ],
   "source": [
    "type(torch.rand([2,2]))"
   ]
  },
  {
   "cell_type": "code",
   "execution_count": 11,
   "metadata": {},
   "outputs": [
    {
     "data": {
      "text/plain": [
       "tensor([[[[0.5105, 0.7162, 0.6452, 0.7423],\n",
       "          [0.6244, 0.7486, 0.3236, 0.6378],\n",
       "          [0.8262, 0.6350, 0.8745, 0.0091],\n",
       "          [0.6302, 0.1055, 0.9326, 0.8065]],\n",
       "\n",
       "         [[0.2670, 0.3333, 0.4485, 0.5862],\n",
       "          [0.1464, 0.8743, 0.3858, 0.2479],\n",
       "          [0.5450, 0.2510, 0.4583, 0.8675],\n",
       "          [0.4275, 0.6116, 0.8135, 0.3809]]]])"
      ]
     },
     "execution_count": 11,
     "metadata": {},
     "output_type": "execute_result"
    }
   ],
   "source": [
    "x = torch.rand([1, 2, 4, 4])\n",
    "x"
   ]
  },
  {
   "cell_type": "code",
   "execution_count": 12,
   "metadata": {},
   "outputs": [
    {
     "data": {
      "text/plain": [
       "tensor([[[[[[0.5105, 0.7162],\n",
       "            [0.6452, 0.7423]],\n",
       "\n",
       "           [[0.6244, 0.7486],\n",
       "            [0.3236, 0.6378]]],\n",
       "\n",
       "\n",
       "          [[[0.8262, 0.6350],\n",
       "            [0.8745, 0.0091]],\n",
       "\n",
       "           [[0.6302, 0.1055],\n",
       "            [0.9326, 0.8065]]]],\n",
       "\n",
       "\n",
       "\n",
       "         [[[[0.2670, 0.3333],\n",
       "            [0.4485, 0.5862]],\n",
       "\n",
       "           [[0.1464, 0.8743],\n",
       "            [0.3858, 0.2479]]],\n",
       "\n",
       "\n",
       "          [[[0.5450, 0.2510],\n",
       "            [0.4583, 0.8675]],\n",
       "\n",
       "           [[0.4275, 0.6116],\n",
       "            [0.8135, 0.3809]]]]]])"
      ]
     },
     "execution_count": 12,
     "metadata": {},
     "output_type": "execute_result"
    }
   ],
   "source": [
    "x = x.view(1,2,4//2,2,4//2,2)\n",
    "x"
   ]
  },
  {
   "cell_type": "code",
   "execution_count": 13,
   "metadata": {},
   "outputs": [
    {
     "data": {
      "text/plain": [
       "tensor([[[[2.5997, 2.3489],\n",
       "          [2.1969, 2.6227]],\n",
       "\n",
       "         [[1.6211, 1.6684],\n",
       "          [1.8351, 2.5202]]]])"
      ]
     },
     "execution_count": 13,
     "metadata": {},
     "output_type": "execute_result"
    }
   ],
   "source": [
    "x = torch.sum(x,dim=(3,5))\n",
    "x"
   ]
  },
  {
   "cell_type": "code",
   "execution_count": 10,
   "metadata": {},
   "outputs": [
    {
     "data": {
      "text/plain": [
       "torch.Size([1, 2, 2, 2])"
      ]
     },
     "execution_count": 10,
     "metadata": {},
     "output_type": "execute_result"
    }
   ],
   "source": [
    "x.shape"
   ]
  },
  {
   "cell_type": "code",
   "execution_count": 32,
   "metadata": {},
   "outputs": [],
   "source": [
    "class CUSTOM_POOLING(nn.Module):\n",
    "    def __init__(self, in_channels, out_channels):\n",
    "        super().__init__()\n",
    "\n",
    "        self.weights = nn.Parameter(torch.randn(out_channels))\n",
    "        self.bias = nn.Parameter(torch.randn(out_channels))\n",
    "    \n",
    "    def forward(self, x):\n",
    "        B, C, H, W = x.size()\n",
    "        assert H%2==0 and W%2==0\n",
    "\n",
    "        x = x.view(B, C, H//2, 2, W//2, 2)\n",
    "        x = torch.sum(x, dim=(3,5))\n",
    "        x = x * self.weights.view(1,-1,1,1) + self.bias.view(1,-1,1,1)\n",
    "\n",
    "        return x"
   ]
  },
  {
   "cell_type": "code",
   "execution_count": 33,
   "metadata": {},
   "outputs": [
    {
     "data": {
      "text/plain": [
       "tensor([[[[ 0.8743,  2.1207],\n",
       "          [ 1.7699, -2.8809]],\n",
       "\n",
       "         [[ 7.5807, -4.9952],\n",
       "          [ 3.1645,  2.0584]],\n",
       "\n",
       "         [[ 1.2447,  1.1393],\n",
       "          [ 1.3759,  1.0937]]]], grad_fn=<AddBackward0>)"
      ]
     },
     "execution_count": 33,
     "metadata": {},
     "output_type": "execute_result"
    }
   ],
   "source": [
    "x = torch.randn([1, 3, 4, 4])\n",
    "y = CUSTOM_POOLING(1,3)\n",
    "y.forward(x)"
   ]
  },
  {
   "cell_type": "code",
   "execution_count": 26,
   "metadata": {},
   "outputs": [],
   "source": [
    "table1 = [\n",
    "    [0,1,2],\n",
    "    [1,2,3],\n",
    "    [2,3,4],\n",
    "    [3,4,5],\n",
    "    [4,5,0],\n",
    "    [5,0,1],\n",
    "    [0,1,2,3],\n",
    "    [1,2,3,4],\n",
    "    [2,3,4,5],\n",
    "    [3,4,5,0],\n",
    "    [4,5,0,1],\n",
    "    [5,0,1,2],\n",
    "    [0,1,3,4],\n",
    "    [1,2,4,5],\n",
    "    [0,2,3,5],\n",
    "    [0,1,2,3,4,5]\n",
    "]"
   ]
  },
  {
   "cell_type": "code",
   "execution_count": 28,
   "metadata": {},
   "outputs": [],
   "source": [
    "class SPARSE_CONV(nn.Module):\n",
    "    def __init__(self, in_channels, out_channels, kernel_size, connection_scheme):\n",
    "        super().__init__()\n",
    "        self.connection_scheme = connection_scheme\n",
    "        self.convs = nn.ModuleList(\n",
    "            [nn.Conv2d(len(S2_channels), 1, kernel_size) for S2_channels in connection_scheme]\n",
    "        )\n",
    "    \n",
    "    def forward(self, x):\n",
    "        output = []\n",
    "        for i, S2_channels in enumerate(self.connection_scheme):\n",
    "            output.append(\n",
    "                self.convs[i](x[:, S2_channels, :, :])\n",
    "            )\n",
    "        \n",
    "        return torch.cat(output, dim=1)"
   ]
  },
  {
   "cell_type": "code",
   "execution_count": 29,
   "metadata": {},
   "outputs": [
    {
     "data": {
      "text/plain": [
       "torch.Size([1, 16, 10, 10])"
      ]
     },
     "execution_count": 29,
     "metadata": {},
     "output_type": "execute_result"
    }
   ],
   "source": [
    "x = torch.randn(1, 6, 14, 14)\n",
    "m = SPARSE_CONV(6, 16, 5, connection_scheme=table1)\n",
    "y = m(x)\n",
    "y.shape"
   ]
  },
  {
   "cell_type": "code",
   "execution_count": 36,
   "metadata": {},
   "outputs": [
    {
     "data": {
      "text/plain": [
       "tensor([[ 0.5441, -0.2279,  0.4016],\n",
       "        [ 0.2634,  0.3783, -0.7449]])"
      ]
     },
     "execution_count": 36,
     "metadata": {},
     "output_type": "execute_result"
    }
   ],
   "source": [
    "temp = torch.randn(2, 3, 1, 1)\n",
    "temp.squeeze()"
   ]
  },
  {
   "cell_type": "code",
   "execution_count": null,
   "metadata": {},
   "outputs": [],
   "source": [
    "class RBF(nn.Module):\n",
    "    def __init__(self, in_channels, out_channels):\n",
    "        super().__init__(*args, **kwargs)"
   ]
  },
  {
   "cell_type": "code",
   "execution_count": null,
   "metadata": {},
   "outputs": [],
   "source": [
    "class MOCK_LENET5(nn.Module):\n",
    "    def __init__(self):\n",
    "        super().__init__()\n",
    "        self.C1 = nn.Conv2d(in_channels=1, out_channels=6, kernel_size=5, stride=1)\n",
    "        self.S2 = CUSTOM_POOLING(int_channels=6, out_channels=6)\n",
    "        self.C3 = SPARSE_CONV(in_channels=6, out_channels=16, kernel_size=5)\n",
    "        self.S4 = CUSTOM_POOLING(in_channels=16, out_channels=16)\n",
    "        self.C5 = nn.Conv2d(in_channels=16, out_channels=120, kernel_size=5)\n",
    "        \n",
    "        "
   ]
  }
 ],
 "metadata": {
  "kernelspec": {
   "display_name": "mlpapers_env",
   "language": "python",
   "name": "python3"
  },
  "language_info": {
   "codemirror_mode": {
    "name": "ipython",
    "version": 3
   },
   "file_extension": ".py",
   "mimetype": "text/x-python",
   "name": "python",
   "nbconvert_exporter": "python",
   "pygments_lexer": "ipython3",
   "version": "3.12.2"
  }
 },
 "nbformat": 4,
 "nbformat_minor": 2
}
